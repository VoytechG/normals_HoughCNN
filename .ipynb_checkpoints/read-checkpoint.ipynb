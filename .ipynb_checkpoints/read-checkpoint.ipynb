{
 "cells": [
  {
   "cell_type": "code",
   "execution_count": 6,
   "metadata": {},
   "outputs": [],
   "source": [
    "import pickle\n",
    "from  matplotlib.pyplot import imshow\n",
    "import os\n",
    "import numpy as np"
   ]
  },
  {
   "cell_type": "code",
   "execution_count": 7,
   "metadata": {},
   "outputs": [],
   "source": [
    "dataset_directory = \"dataset\"    \n",
    "dataset = pickle.load( open( os.path.join(dataset_directory, \"datasetk3.p\"), \"rb\" ) )\n"
   ]
  },
  {
   "cell_type": "code",
   "execution_count": 8,
   "metadata": {},
   "outputs": [
    {
     "data": {
      "text/plain": [
       "dict_keys(['input', 'targets', 'mean'])"
      ]
     },
     "execution_count": 8,
     "metadata": {},
     "output_type": "execute_result"
    }
   ],
   "source": [
    "dataset.keys()"
   ]
  },
  {
   "cell_type": "code",
   "execution_count": 9,
   "metadata": {},
   "outputs": [
    {
     "data": {
      "text/plain": [
       "(100000, 3, 33, 33)"
      ]
     },
     "execution_count": 9,
     "metadata": {},
     "output_type": "execute_result"
    },
    {
     "data": {
      "image/png": "[encoded data removed]",
      "text/plain": [
       "<Figure size 432x288 with 1 Axes>"
      ]
     },
     "metadata": {
      "needs_background": "light"
     },
     "output_type": "display_data"
    }
   ],
   "source": [
    "imshow(dataset['input'][39040, 0])\n",
    "dataset['input'].shape"
   ]
  },
  {
   "cell_type": "code",
   "execution_count": 10,
   "metadata": {},
   "outputs": [
    {
     "name": "stdout",
     "output_type": "stream",
     "text": [
      "(100000, 2)\n"
     ]
    },
    {
     "data": {
      "text/plain": [
       "array([0., 0.])"
      ]
     },
     "execution_count": 10,
     "metadata": {},
     "output_type": "execute_result"
    }
   ],
   "source": [
    "# max([np.sqrt(a**2 + b**2) for a,b in dataset['targets']])\n",
    "print(dataset['targets'].shape)\n",
    "dataset['targets'][39040]"
   ]
  },
  {
   "cell_type": "code",
   "execution_count": 9,
   "metadata": {},
   "outputs": [
    {
     "data": {
      "text/plain": [
       "array([[0., 0., 0., ..., 0., 0., 0.],\n",
       "       [0., 0., 0., ..., 0., 0., 0.],\n",
       "       [0., 0., 0., ..., 0., 0., 0.],\n",
       "       ...,\n",
       "       [0., 0., 0., ..., 0., 0., 0.],\n",
       "       [0., 0., 0., ..., 0., 0., 0.],\n",
       "       [0., 0., 0., ..., 0., 0., 0.]])"
      ]
     },
     "execution_count": 9,
     "metadata": {},
     "output_type": "execute_result"
    },
    {
     "data": {
      "image/png": "[encoded data removed]",
      "text/plain": [
       "<Figure size 432x288 with 1 Axes>"
      ]
     },
     "metadata": {
      "needs_background": "light"
     },
     "output_type": "display_data"
    }
   ],
   "source": [
    "imshow(dataset['mean'][0])\n",
    "dataset['mean'][0]"
   ]
  },
  {
   "cell_type": "code",
   "execution_count": 1,
   "metadata": {},
   "outputs": [],
   "source": [
    "import os\n",
    "import sys \n",
    "# sys.path.append(os.getcwd() + \"python\")\n",
    "sys.path.append(os.getcwd() + \"/python/lib/python\")"
   ]
  },
  {
   "cell_type": "markdown",
   "metadata": {},
   "source": [
    "# Pipeline"
   ]
  },
  {
   "cell_type": "code",
   "execution_count": 228,
   "metadata": {},
   "outputs": [
    {
     "name": "stdout",
     "output_type": "stream",
     "text": [
      "The autoreload extension is already loaded. To reload it, use:\n",
      "  %reload_ext autoreload\n",
      "found resources\n"
     ]
    }
   ],
   "source": [
    "# Wojciech Golaszewski\n",
    "\n",
    "%matplotlib inline\n",
    "%load_ext autoreload\n",
    "%autoreload 2\n",
    "\n",
    "%run implementations.py"
   ]
  },
  {
   "cell_type": "code",
   "execution_count": 111,
   "metadata": {},
   "outputs": [],
   "source": [
    "def load_point_cloud(file_path, max_dst_sq = 0.02):\n",
    "    lines  = open(file_path).read().split(\"\\n\")[:-1]\n",
    "    points = [\n",
    "        [float(x) for x in line.split(\" \")[:3]]\n",
    "        for line in lines\n",
    "    ]\n",
    "    point_range = range(len(points))\n",
    "    colors = np.array([[0.8,0.8,0.8] for i in range(len(points))])\n",
    "    closer = np.array([i for i in point_range if np.linalg.norm(points[i]) < max_dst_sq**0.5])\n",
    "    colors[closer] = [1, 0.5,0.1]\n",
    "    print(closer.shape)\n",
    "    \n",
    "    return points, colors\n",
    "    "
   ]
  },
  {
   "cell_type": "code",
   "execution_count": 116,
   "metadata": {},
   "outputs": [
    {
     "name": "stdout",
     "output_type": "stream",
     "text": [
      "(86,)\n"
     ]
    }
   ],
   "source": [
    "points, colors = load_point_cloud(\"3dmodels/model_256.xyz\", 0.02)\n",
    "axis_mesh = get_axis_trimesh(thickness = 1)\n"
   ]
  },
  {
   "cell_type": "code",
   "execution_count": 117,
   "metadata": {},
   "outputs": [],
   "source": [
    "pymesh = pyrender.Mesh.from_points(points, colors=colors)\n",
    "axmesh = pyrender.Mesh.from_trimesh(axis_mesh)\n",
    "run_gui_pyrmesh([pymesh, axmesh], point_size=5)"
   ]
  },
  {
   "cell_type": "code",
   "execution_count": 171,
   "metadata": {},
   "outputs": [],
   "source": [
    "from sklearn.decomposition import PCA\n",
    "pca = PCA(n_components=3)\n",
    "pca.fit(points)\n",
    "R = pca.components_\n",
    "\n",
    "\n",
    "    \n",
    "# cols = axpcamesh.visual.vertex_colors\n",
    "# cols = np.array(cols * 0.5, dtype='uint8')\n",
    "# axpcamesh.visual.vertex_colors = cols\n",
    "# axpcamesh = pyrender.Mesh.from_trimesh(axpcamesh)\n",
    "\n",
    "# run_gui_pyrmesh([pymesh, axmesh, axpcamesh], point_size=5)"
   ]
  },
  {
   "cell_type": "code",
   "execution_count": 258,
   "metadata": {},
   "outputs": [],
   "source": [
    "def gen_ellipsoid_point_cloud(a,b,c,n):\n",
    "    angles = np.random.uniform(0,np.pi,(n, 2)) * [1,2]\n",
    "    surface_points = np.array([\n",
    "        [a * np.sin(theta) * np.cos(gamma),\n",
    "         b * np.sin(theta) * np.sin(gamma),\n",
    "         c * cos(theta)]\n",
    "        for theta, gamma in angles\n",
    "    ])\n",
    "#     distances = np.random.uniform(0,1,(n, 1))\n",
    "#     point_cloud = np.array(surface_points * distances)\n",
    "    return surface_points\n",
    "\n",
    "def get_pca_axis(points):\n",
    "    pca = PCA(n_components=3)\n",
    "    pca.fit(points)\n",
    "    return pca.components_.T\n",
    "    \n",
    "def test_pca_rect():\n",
    "    rect = np.random.uniform(-0.5,0.5,(1000, 3)) * [1,2,5] * 0.6\n",
    "    r = Rotation.random(random_state=1234).as_matrix()\n",
    "    rect = (r @ rect.T).T \n",
    "    pcar = get_pca_axis(rect)\n",
    "    axr = rotate_trimesh(axis_mesh.copy(), pcar)\n",
    "\n",
    "\n",
    "    pymesh = pyrender.Mesh.from_points(rect)\n",
    "    axmesh = pyrender.Mesh.from_trimesh(axis_mesh)\n",
    "    axrmesh = pyrender.Mesh.from_trimesh(axr)\n",
    "    run_gui_pyrmesh([pymesh, axrmesh], point_size=5)\n",
    "    \n",
    "def test_pca_ellipsoid():\n",
    "    ell = gen_ellipsoid_point_cloud(3,5,7, 1000) * 0.2\n",
    "    r = Rotation.random(random_state=1234).as_matrix()\n",
    "\n",
    "    ell = (r @ ell.T).T \n",
    "\n",
    "    space = 3\n",
    "\n",
    "    ellr = (r @ ell.T).T + [space, 0, 0]\n",
    "    axis_meshr = axis_mesh.copy() \\\n",
    "        .apply_rotation(r).apply_translation([space,0,0])\n",
    "\n",
    "    pca_comp = get_pca_axis(ell)\n",
    "    ell_t = ell + [space, 0, 0]\n",
    "    axis_meshrpca = axis_mesh.copy() \\\n",
    "        .apply_rotation(pca_comp).apply_translation([space, 0,0])\n",
    "    # axis_mesh_tran = axis_mesh.copy().apply_translation([space,0,0])\n",
    "    colors = np.array([1,0.7,0.1] * len(ell)).reshape(ell.shape)\n",
    "\n",
    "\n",
    "    run_gui_pyrmesh([\n",
    "        pyrender.Mesh.from_points(ell),\n",
    "        pyrender.Mesh.from_trimesh(axis_mesh),\n",
    "    #     pyrender.Mesh.from_points(ellr),\n",
    "    #     pyrender.Mesh.from_trimesh(axis_meshr),\n",
    "        pyrender.Mesh.from_points(ell_t, colors=colors),\n",
    "        pyrender.Mesh.from_trimesh(axis_meshrpca),\n",
    "    ], point_size=2)"
   ]
  },
  {
   "cell_type": "code",
   "execution_count": 261,
   "metadata": {},
   "outputs": [],
   "source": []
  },
  {
   "cell_type": "code",
   "execution_count": 257,
   "metadata": {},
   "outputs": [],
   "source": []
  },
  {
   "cell_type": "code",
   "execution_count": null,
   "metadata": {},
   "outputs": [],
   "source": []
  }
 ],
 "metadata": {
  "kernelspec": {
   "display_name": "Python 3.6.10 64-bit ('geo_tutorials': conda)",
   "language": "python",
   "name": "python361064bitgeotutorialsconda9b6f052bfc254fca9ab4aac3821761f1"
  },
  "language_info": {
   "codemirror_mode": {
    "name": "ipython",
    "version": 3
   },
   "file_extension": ".py",
   "mimetype": "text/x-python",
   "name": "python",
   "nbconvert_exporter": "python",
   "pygments_lexer": "ipython3",
   "version": "3.6.10"
  },
  "varInspector": {
   "cols": {
    "lenName": 16,
    "lenType": 16,
    "lenVar": 40
   },
   "kernels_config": {
    "python": {
     "delete_cmd_postfix": "",
     "delete_cmd_prefix": "del ",
     "library": "var_list.py",
     "varRefreshCmd": "print(var_dic_list())"
    },
    "r": {
     "delete_cmd_postfix": ") ",
     "delete_cmd_prefix": "rm(",
     "library": "var_list.r",
     "varRefreshCmd": "cat(var_dic_list()) "
    }
   },
   "types_to_exclude": [
    "module",
    "function",
    "builtin_function_or_method",
    "instance",
    "_Feature"
   ],
   "window_display": false
  }
 },
 "nbformat": 4,
 "nbformat_minor": 2
}
