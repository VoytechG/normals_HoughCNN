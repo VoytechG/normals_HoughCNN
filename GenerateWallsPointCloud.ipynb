{
 "cells": [
  {
   "cell_type": "code",
   "execution_count": 1,
   "metadata": {},
   "outputs": [
    {
     "name": "stdout",
     "output_type": "stream",
     "text": [
      "Done!\n"
     ]
    }
   ],
   "source": [
    "import sys,os\n",
    "\n",
    "import pyglet\n",
    "pyglet.options['shadow_window'] = False\n",
    "\n",
    "import pyrender\n",
    "import numpy as np\n",
    "import trimesh\n",
    "import random\n",
    "import time\n",
    "\n",
    "from scipy.sparse.linalg import eigs\n",
    "from mpl_toolkits import mplot3d\n",
    "\n",
    "%matplotlib inline\n",
    "import matplotlib.pyplot as plt\n",
    "from scipy.spatial.transform import Rotation\n",
    "\n",
    "print('Done!')"
   ]
  },
  {
   "cell_type": "code",
   "execution_count": 2,
   "metadata": {},
   "outputs": [],
   "source": [
    "# Control variables\n",
    "\n",
    "# Scale changes size\n",
    "# Degrees changes angles of the walls\n",
    "# Rotator changes the point cloud's entire rotation\n",
    "scale = 8\n",
    "degrees = 60\n",
    "rotator = 0\n",
    "\n",
    "# Ensures we get 5000 points total\n",
    "# maxiter1 is for initial wall generation\n",
    "# maxiter2 is for rotation merging between Wall 1 and Wall 2 (the two vertical walls)\n",
    "maxiter1 = 1249\n",
    "maxiter2 = 625"
   ]
  },
  {
   "cell_type": "code",
   "execution_count": 3,
   "metadata": {},
   "outputs": [],
   "source": [
    "# Generates random points in the point cloud, starting with simple 90-degree planes\n",
    "# First 3 columns are x-y-z coordinates\n",
    "# Last 3 columns are x-y-z normal vectors\n",
    "\n",
    "wall1 = np.array([[1.,1.,0.,1.,1.,0.]])\n",
    "wall2 = np.array([[0.,1.,1.,0.,1.,1.]])\n",
    "wall3 = np.array([[1.,0.,1.,1.,0.,1.]])\n",
    "\n",
    "for i in range(maxiter1):\n",
    "    \n",
    "    r1 = random.uniform(0., 1.)\n",
    "    r2 = random.uniform(0., 1.)\n",
    "    r3 = random.uniform(0., 1.)\n",
    "    r4 = random.uniform(0., 1.)\n",
    "    r5 = random.uniform(0., 1.)\n",
    "    r6 = random.uniform(0., 1.)\n",
    "    \n",
    "    wall1 = np.append(wall1, [[r1, r2, 0., 1., 1., 0.]], axis=0)\n",
    "    wall2 = np.append(wall2, [[0., r3, r4, 0., 1., 1.]], axis=0)\n",
    "    wall3 = np.append(wall3, [[r5, 0., r6, 1., 0., 1.]], axis=0)\n",
    "    \n",
    "rotate1 = Rotation.from_euler('x', -degrees, degrees=True)\n",
    "rotate2 = Rotation.from_euler('z', degrees, degrees=True)\n",
    "\n",
    "# Calculates the point where the two walls would meet when rotated\n",
    "minval = np.dot(rotate1.as_matrix(), np.array(wall1[0,:3]).T)[2]\n",
    "\n",
    "temp1 = np.zeros([1,6])\n",
    "temp2 = np.zeros([1,6])\n",
    "\n",
    "# Adds more points to the pointcloud to merge the walls together\n",
    "for i in range(maxiter2):\n",
    "    \n",
    "    r1 = random.uniform(minval, 0.)\n",
    "    r4 = random.uniform(minval, 0.)\n",
    "    \n",
    "    min1 = (r1 / minval)\n",
    "    min2 = (r4 / minval)\n",
    "    r2 = random.uniform(min1, 1.)\n",
    "    r3 = random.uniform(min2, 1.)\n",
    "\n",
    "    temp1 = np.append(temp1, [[r1, r2, 0., 1., 1., 0.,]], axis=0)\n",
    "    temp2 = np.append(temp2, [[0., r3, r4, 0., 1., 1.,]], axis=0)\n",
    "    \n",
    "# Rotates the walls to join together\n",
    "walljoint1 = np.dot(rotate1.as_matrix(), np.array(temp1[1:,:3]).T).T\n",
    "walljoint2 = np.dot(rotate2.as_matrix(), np.array(temp2[1:,:3]).T).T\n",
    "walljointnormals1 = np.dot(rotate1.as_matrix(), np.array(temp1[1:,3:]).T).T\n",
    "walljointnormals2 = np.dot(rotate2.as_matrix(), np.array(temp2[1:,3:]).T).T\n",
    "\n",
    "walljoint1 = np.append(walljoint1, walljointnormals1, axis=1)\n",
    "walljoint2 = np.append(walljoint2, walljointnormals2, axis=1)"
   ]
  },
  {
   "cell_type": "code",
   "execution_count": 4,
   "metadata": {},
   "outputs": [
    {
     "name": "stdout",
     "output_type": "stream",
     "text": [
      "Done!\n"
     ]
    }
   ],
   "source": [
    "# Merges all of the points together for a single point cloud file\n",
    "\n",
    "rotatedWall1 = np.dot(rotate1.as_matrix(), np.array(wall1[:,:3]).T).T\n",
    "rotatedWall2 = np.dot(rotate2.as_matrix(), np.array(wall2[:,:3]).T).T\n",
    "\n",
    "rotatedNormals1 = np.dot(rotate1.as_matrix(), np.array(wall1[:,3:]).T).T\n",
    "rotatedNormals2 = np.dot(rotate2.as_matrix(), np.array(wall2[:,3:]).T).T\n",
    "\n",
    "rotatedWall1 = np.append(rotatedWall1, rotatedNormals1, axis=1)\n",
    "rotatedWall2 = np.append(rotatedWall2, rotatedNormals2, axis=1)\n",
    "\n",
    "fullwall1 = np.append(rotatedWall1, walljoint1, axis=0)\n",
    "fullwall2 = np.append(rotatedWall2, walljoint2, axis=0)\n",
    "\n",
    "fullwall3 = np.array(wall3)\n",
    "\n",
    "fullwall1[:,:3] = fullwall1[:,:3] * scale\n",
    "fullwall2[:,:3] = fullwall2[:,:3] * scale\n",
    "fullwall3[:,:3] = wall3[:,:3] * scale\n",
    "\n",
    "vertices = np.append(fullwall1, fullwall2, axis=0)\n",
    "vertices = np.append(vertices, fullwall3, axis=0)\n",
    "\n",
    "# Finally, rotates the point cloud to its new initial orientation\n",
    "if(rotator != 0):\n",
    "    rotatePoints = Rotation.from_euler('x', rotator, degrees=True)\n",
    "    vertices[:,:3] = np.dot(rotatePoints.as_matrix(), np.array(vertices[:,:3]).T).T\n",
    "    vertices[:,3:] = np.dot(rotatePoints.as_matrix(), np.array(vertices[:,3:]).T).T\n",
    "\n",
    "    fullwall1[:,:3] = np.dot(rotatePoints.as_matrix(), np.array(fullwall1[:,:3]).T).T\n",
    "    fullwall1[:,3:] = np.dot(rotatePoints.as_matrix(), np.array(fullwall1[:,3:]).T).T\n",
    "    fullwall2[:,:3] = np.dot(rotatePoints.as_matrix(), np.array(fullwall2[:,:3]).T).T\n",
    "    fullwall2[:,3:] = np.dot(rotatePoints.as_matrix(), np.array(fullwall2[:,3:]).T).T\n",
    "    fullwall3[:,:3] = np.dot(rotatePoints.as_matrix(), np.array(fullwall3[:,:3]).T).T\n",
    "    fullwall3[:,3:] = np.dot(rotatePoints.as_matrix(), np.array(fullwall3[:,3:]).T).T\n",
    "\n",
    "np.savetxt('finalcloud.xyz', vertices)\n",
    "np.savetxt('finalwall1.xyz', fullwall1)\n",
    "np.savetxt('finalwall2.xyz', fullwall2)\n",
    "np.savetxt('final3.xyz', fullwall3)\n",
    "\n",
    "print('Done!')"
   ]
  },
  {
   "cell_type": "code",
   "execution_count": 5,
   "metadata": {},
   "outputs": [
    {
     "name": "stdout",
     "output_type": "stream",
     "text": [
      "Done!\n"
     ]
    }
   ],
   "source": [
    "# Adds a layer of noise to the point cloud\n",
    "\n",
    "noisyMesh = vertices\n",
    "\n",
    "mu = 0\n",
    "sigma = 0.01 * scale\n",
    "\n",
    "noise = np.random.normal(mu, sigma, (noisyMesh.shape[0],3))\n",
    "\n",
    "noisyMesh[:,:3] += noise\n",
    "\n",
    "np.savetxt('finalcloudnoisy.xyz', noisyMesh)\n",
    "\n",
    "print('Done!')"
   ]
  },
  {
   "cell_type": "code",
   "execution_count": null,
   "metadata": {},
   "outputs": [],
   "source": []
  }
 ],
 "metadata": {
  "kernelspec": {
   "display_name": "Python [conda env:.conda-geo_tutorials]",
   "language": "python",
   "name": "conda-env-.conda-geo_tutorials-py"
  },
  "language_info": {
   "codemirror_mode": {
    "name": "ipython",
    "version": 3
   },
   "file_extension": ".py",
   "mimetype": "text/x-python",
   "name": "python",
   "nbconvert_exporter": "python",
   "pygments_lexer": "ipython3",
   "version": "3.6.10"
  },
  "varInspector": {
   "cols": {
    "lenName": 16,
    "lenType": 16,
    "lenVar": 40
   },
   "kernels_config": {
    "python": {
     "delete_cmd_postfix": "",
     "delete_cmd_prefix": "del ",
     "library": "var_list.py",
     "varRefreshCmd": "print(var_dic_list())"
    },
    "r": {
     "delete_cmd_postfix": ") ",
     "delete_cmd_prefix": "rm(",
     "library": "var_list.r",
     "varRefreshCmd": "cat(var_dic_list()) "
    }
   },
   "types_to_exclude": [
    "module",
    "function",
    "builtin_function_or_method",
    "instance",
    "_Feature"
   ],
   "window_display": false
  }
 },
 "nbformat": 4,
 "nbformat_minor": 1
}
