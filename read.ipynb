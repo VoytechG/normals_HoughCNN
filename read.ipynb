{
 "cells": [
  {
   "cell_type": "code",
   "execution_count": 6,
   "metadata": {},
   "outputs": [],
   "source": [
    "import pickle\n",
    "from  matplotlib.pyplot import imshow\n",
    "import os\n",
    "import numpy as np"
   ]
  },
  {
   "cell_type": "code",
   "execution_count": 7,
   "metadata": {},
   "outputs": [],
   "source": [
    "dataset_directory = \"dataset\"    \n",
    "dataset = pickle.load( open( os.path.join(dataset_directory, \"datasetk3.p\"), \"rb\" ) )\n"
   ]
  },
  {
   "cell_type": "code",
   "execution_count": 8,
   "metadata": {},
   "outputs": [
    {
     "data": {
      "text/plain": [
       "dict_keys(['input', 'targets', 'mean'])"
      ]
     },
     "execution_count": 8,
     "metadata": {},
     "output_type": "execute_result"
    }
   ],
   "source": [
    "dataset.keys()"
   ]
  },
  {
   "cell_type": "code",
   "execution_count": 9,
   "metadata": {},
   "outputs": [
    {
     "data": {
      "text/plain": [
       "(100000, 3, 33, 33)"
      ]
     },
     "execution_count": 9,
     "metadata": {},
     "output_type": "execute_result"
    },
    {
     "data": {
      "image/png": "[encoded data removed]",
      "text/plain": [
       "<Figure size 432x288 with 1 Axes>"
      ]
     },
     "metadata": {
      "needs_background": "light"
     },
     "output_type": "display_data"
    }
   ],
   "source": [
    "imshow(dataset['input'][39040, 0])\n",
    "dataset['input'].shape"
   ]
  },
  {
   "cell_type": "code",
   "execution_count": 10,
   "metadata": {},
   "outputs": [
    {
     "name": "stdout",
     "output_type": "stream",
     "text": [
      "(100000, 2)\n"
     ]
    },
    {
     "data": {
      "text/plain": [
       "array([0., 0.])"
      ]
     },
     "execution_count": 10,
     "metadata": {},
     "output_type": "execute_result"
    }
   ],
   "source": [
    "# max([np.sqrt(a**2 + b**2) for a,b in dataset['targets']])\n",
    "print(dataset['targets'].shape)\n",
    "dataset['targets'][39040]"
   ]
  },
  {
   "cell_type": "code",
   "execution_count": 9,
   "metadata": {},
   "outputs": [
    {
     "data": {
      "text/plain": [
       "array([[0., 0., 0., ..., 0., 0., 0.],\n",
       "       [0., 0., 0., ..., 0., 0., 0.],\n",
       "       [0., 0., 0., ..., 0., 0., 0.],\n",
       "       ...,\n",
       "       [0., 0., 0., ..., 0., 0., 0.],\n",
       "       [0., 0., 0., ..., 0., 0., 0.],\n",
       "       [0., 0., 0., ..., 0., 0., 0.]])"
      ]
     },
     "execution_count": 9,
     "metadata": {},
     "output_type": "execute_result"
    },
    {
     "data": {
      "image/png": "[encoded data removed]",
      "text/plain": [
       "<Figure size 432x288 with 1 Axes>"
      ]
     },
     "metadata": {
      "needs_background": "light"
     },
     "output_type": "display_data"
    }
   ],
   "source": [
    "imshow(dataset['mean'][0])\n",
    "dataset['mean'][0]"
   ]
  },
  {
   "cell_type": "code",
   "execution_count": 1,
   "metadata": {},
   "outputs": [],
   "source": [
    "import os\n",
    "import sys \n",
    "# sys.path.append(os.getcwd() + \"python\")\n",
    "sys.path.append(os.getcwd() + \"/python/lib/python\")"
   ]
  },
  {
   "cell_type": "markdown",
   "metadata": {},
   "source": [
    "# Pipeline"
   ]
  },
  {
   "cell_type": "code",
   "execution_count": 1,
   "metadata": {},
   "outputs": [
    {
     "name": "stdout",
     "output_type": "stream",
     "text": [
      "found resources\n"
     ]
    }
   ],
   "source": [
    "# Wojciech Golaszewski\n",
    "\n",
    "%matplotlib inline\n",
    "%load_ext autoreload\n",
    "%autoreload 2\n",
    "\n",
    "%run implementations.py\n",
    "\n",
    "from IPython.core.debugger import set_trace\n",
    "from sklearn.decomposition import PCA"
   ]
  },
  {
   "cell_type": "markdown",
   "metadata": {},
   "source": [
    "## Helpers\n"
   ]
  },
  {
   "cell_type": "code",
   "execution_count": 2,
   "metadata": {},
   "outputs": [],
   "source": [
    "def gen_ellipsoid_point_cloud(a,b,c,n):\n",
    "    angles = np.random.uniform(0,np.pi,(n, 2)) * [1,2]\n",
    "    surface_points = np.array([\n",
    "        [a * np.sin(theta) * np.cos(gamma),\n",
    "         b * np.sin(theta) * np.sin(gamma),\n",
    "         c * cos(theta)]\n",
    "        for theta, gamma in angles\n",
    "    ])\n",
    "#     distances = np.random.uniform(0,1,(n, 1))\n",
    "#     point_cloud = np.array(surface_points * distances)\n",
    "    return surface_points\n",
    "\n",
    "def get_pca_axis(points):\n",
    "    pca = PCA(n_components=3)\n",
    "    pca.fit(points)\n",
    "    return pca.components_.T\n",
    "    \n",
    "def test_pca_rect():\n",
    "    rect = np.random.uniform(-0.5,0.5,(1000, 3)) * [1,2,5] * 0.6\n",
    "    r = Rotation.random(random_state=1234).as_matrix()\n",
    "    rect = (r @ rect.T).T \n",
    "    pcar = get_pca_axis(rect)\n",
    "    axr = rotate_trimesh(axis_mesh.copy(), pcar)\n",
    "\n",
    "\n",
    "    pymesh = pyrender.Mesh.from_points(rect)\n",
    "    axmesh = pyrender.Mesh.from_trimesh(axis_mesh)\n",
    "    axrmesh = pyrender.Mesh.from_trimesh(axr)\n",
    "    run_gui_pyrmesh([pymesh, axrmesh], point_size=5)\n",
    "    \n",
    "def test_pca_ellipsoid():\n",
    "    ell = gen_ellipsoid_point_cloud(3,5,7, 1000) * 0.2\n",
    "    r = Rotation.random(random_state=1234).as_matrix()\n",
    "\n",
    "    ell = (r @ ell.T).T \n",
    "\n",
    "    space = 3\n",
    "\n",
    "    ellr = (r @ ell.T).T + [space, 0, 0]\n",
    "    axis_meshr = axis_mesh.copy() \\\n",
    "        .apply_rotation(r).apply_translation([space,0,0])\n",
    "\n",
    "    pca_comp = get_pca_axis(ell)\n",
    "    ell_t = (pca_comp.T @ ell.T).T + [space, 0, 0]\n",
    "#     axis_meshrpca = axis_mesh.copy() \\\n",
    "#         .apply_rotation(pca_comp).apply_translation([space, 0,0])\n",
    "    axis_mesh_tran = axis_mesh.copy().apply_translation([space,0,0])\n",
    "    colors = np.array([1,0.7,0.1] * len(ell)).reshape(ell.shape)\n",
    "\n",
    "\n",
    "    run_gui_pyrmesh([\n",
    "        pyrender.Mesh.from_points(ell),\n",
    "        pyrender.Mesh.from_trimesh(axis_mesh),\n",
    "    #     pyrender.Mesh.from_points(ellr),\n",
    "    #     pyrender.Mesh.from_trimesh(axis_meshr),\n",
    "        pyrender.Mesh.from_points(ell_t, colors=colors),\n",
    "        pyrender.Mesh.from_trimesh(axis_mesh_tran),\n",
    "    ], point_size=2)"
   ]
  },
  {
   "cell_type": "markdown",
   "metadata": {},
   "source": [
    "## Visualisers"
   ]
  },
  {
   "cell_type": "code",
   "execution_count": 3,
   "metadata": {},
   "outputs": [],
   "source": [
    "def visualise_valid_points(points, valid_point_indices):\n",
    "    colors = np.ones_like(points)\n",
    "    colors[valid_point_indices] = [1, 0.3,0.1]\n",
    "    \n",
    "    axis_mesh = get_axis_trimesh(thickness = 1)\n",
    "    pymesh = pyrender.Mesh.from_points(points, colors=colors)\n",
    "    axmesh = pyrender.Mesh.from_trimesh(axis_mesh)\n",
    "    run_gui_pyrmesh([pymesh, axmesh], point_size=5)"
   ]
  },
  {
   "cell_type": "markdown",
   "metadata": {},
   "source": [
    "## Code"
   ]
  },
  {
   "cell_type": "code",
   "execution_count": 4,
   "metadata": {},
   "outputs": [],
   "source": [
    "def load_point_cloud(file_path):\n",
    "    lines  = open(file_path).read().split(\"\\n\")[:-1]\n",
    "    point_cloud = np.array([\n",
    "        [float(x) for x in line.split(\" \")[:3]]\n",
    "        for line in lines\n",
    "    ])\n",
    "    return point_cloud\n",
    "\n",
    "def get_points_close_to_origin(point_cloud, max_dst):\n",
    "    return np.array([\n",
    "        i for i, point in enumerate(point_cloud)\n",
    "        if np.linalg.norm(point) < max_dst**0.5])\n",
    "\n",
    "def get_pca_axis_3d(point_cloud):\n",
    "    pca = PCA(n_components=3)\n",
    "    pca.fit(point_cloud)\n",
    "    return pca.components_\n",
    "\n",
    "def rotate_point_cloud(point_cloud, rot_matrix):\n",
    "    return np.array((rot_matrix @ point_cloud.T).T)"
   ]
  },
  {
   "cell_type": "code",
   "execution_count": 8,
   "metadata": {},
   "outputs": [],
   "source": [
    "def generate_accums_for_point_cloud(\n",
    "    point_cloud, \n",
    "    neighbourhood_sizes):\n",
    "    \n",
    "    MAX_DIST_TO_ORIGIN = 0.02\n",
    "    \n",
    "    # Number of hypthesis to draw     \n",
    "    T = 1000\n",
    "    \n",
    "    # Accum size\n",
    "    A = 33\n",
    "    \n",
    "    # nth furthest point to take into account in density variation trick\n",
    "    DVth = 5\n",
    "    \n",
    "    points_close_to_origin_indices = get_points_close_to_origin(point_cloud, MAX_DIST_TO_ORIGIN)\n",
    "\n",
    "#     visualise_valid_points(point_cloud, points_close_to_origin_indices)\n",
    "\n",
    "    kd_tree = KDTree(point_cloud)\n",
    "    K_max = neighbourhood_sizes[-1]\n",
    "    \n",
    "    distances, _ = kd_tree.query(point_cloud, k = DVth + 1)\n",
    "    aniso_probabilities = np.array(distances[:, -1])\n",
    "    \n",
    "    for point_index in points_close_to_origin_indices:\n",
    "        point = point_cloud[point_index]\n",
    "        \n",
    "        # +1 to compensate for the fact that the first result is the point itself \n",
    "        _, indices = kd_tree.query([point], k=K_max + 1)\n",
    "        indices = indices[0,1:-1]\n",
    "        max_neighbourhod = point_cloud[indices]\n",
    "    \n",
    "        pca_rot_3d = get_pca_axis_3d(max_neighbourhod)\n",
    "        # Aligns z-axis on the smallest Principal Component\n",
    "        max_neighbourhod = rotate_point_cloud(max_neighbourhod, pca_rot_3d)\n",
    "        \n",
    "        for k in neighbourhood_sizes:\n",
    "            \n",
    "            accumulator = np.zeros((33,33))   \n",
    "            accum_normals = np.zeros((k, 3))\n",
    "            \n",
    "            nearest_neighbour_point_indices = indices[:k]\n",
    "            \n",
    "            local_aniso_prob = aniso_probabilities[nearest_neighbour_point_indices]\n",
    "            local_aniso_prob /= np.sum(local_aniso_prob)\n",
    "            \n",
    "            for i in range(T):\n",
    "                \n",
    "                hypothesis_point_indices = nearest_neighbour_point_indices[\n",
    "                    np.random.choice(k, 3, replace=False, p = local_aniso_prob)\n",
    "                ]\n",
    "                \n",
    "                [a,b,c] = point_cloud[hypothesis_point_indices]\n",
    "\n",
    "                vec_1 = b - a \n",
    "                vec_2 = c - a\n",
    "\n",
    "                normal = np.cross(vec_1, vec_2)\n",
    "                normal = normal / np.sum(normal)\n",
    "\n",
    "\n",
    "                if np.dot(normal, [0,0,1]) < 0:\n",
    "                    # reorient normal\n",
    "                    normal = normal * -1\n",
    "                \n"
   ]
  },
  {
   "cell_type": "code",
   "execution_count": 9,
   "metadata": {},
   "outputs": [],
   "source": [
    "    point_cloud = load_point_cloud(\"3dmodels/model_256.xyz\")"
   ]
  },
  {
   "cell_type": "code",
   "execution_count": 10,
   "metadata": {},
   "outputs": [
    {
     "ename": "ValueError",
     "evalue": "'a' and 'p' must have same size",
     "output_type": "error",
     "traceback": [
      "\u001b[1;31m---------------------------------------------------------------------------\u001b[0m",
      "\u001b[1;31mValueError\u001b[0m                                Traceback (most recent call last)",
      "\u001b[1;32m<ipython-input-10-0ccb03954633>\u001b[0m in \u001b[0;36m<module>\u001b[1;34m\u001b[0m\n\u001b[0;32m      6\u001b[0m \u001b[0mKs\u001b[0m\u001b[1;33m.\u001b[0m\u001b[0msort\u001b[0m\u001b[1;33m(\u001b[0m\u001b[1;33m)\u001b[0m\u001b[1;33m\u001b[0m\u001b[1;33m\u001b[0m\u001b[0m\n\u001b[0;32m      7\u001b[0m \u001b[1;33m\u001b[0m\u001b[0m\n\u001b[1;32m----> 8\u001b[1;33m \u001b[0mgenerate_accums_for_point_cloud\u001b[0m\u001b[1;33m(\u001b[0m\u001b[0mpoint_cloud\u001b[0m\u001b[1;33m,\u001b[0m \u001b[0mKs\u001b[0m\u001b[1;33m)\u001b[0m\u001b[1;33m\u001b[0m\u001b[1;33m\u001b[0m\u001b[0m\n\u001b[0m",
      "\u001b[1;32m<ipython-input-8-1df61dcfe3ab>\u001b[0m in \u001b[0;36mgenerate_accums_for_point_cloud\u001b[1;34m(point_cloud, neighbourhood_sizes)\u001b[0m\n\u001b[0;32m     49\u001b[0m \u001b[1;33m\u001b[0m\u001b[0m\n\u001b[0;32m     50\u001b[0m                 hypothesis_point_indices = nearest_neighbour_point_indices[\n\u001b[1;32m---> 51\u001b[1;33m                     \u001b[0mnp\u001b[0m\u001b[1;33m.\u001b[0m\u001b[0mrandom\u001b[0m\u001b[1;33m.\u001b[0m\u001b[0mchoice\u001b[0m\u001b[1;33m(\u001b[0m\u001b[0mk\u001b[0m\u001b[1;33m,\u001b[0m \u001b[1;36m3\u001b[0m\u001b[1;33m,\u001b[0m \u001b[0mreplace\u001b[0m\u001b[1;33m=\u001b[0m\u001b[1;32mFalse\u001b[0m\u001b[1;33m,\u001b[0m \u001b[0mp\u001b[0m \u001b[1;33m=\u001b[0m \u001b[0mlocal_aniso_prob\u001b[0m\u001b[1;33m)\u001b[0m\u001b[1;33m\u001b[0m\u001b[1;33m\u001b[0m\u001b[0m\n\u001b[0m\u001b[0;32m     52\u001b[0m                 ]\n\u001b[0;32m     53\u001b[0m \u001b[1;33m\u001b[0m\u001b[0m\n",
      "\u001b[1;32mmtrand.pyx\u001b[0m in \u001b[0;36mnumpy.random.mtrand.RandomState.choice\u001b[1;34m()\u001b[0m\n",
      "\u001b[1;31mValueError\u001b[0m: 'a' and 'p' must have same size"
     ]
    }
   ],
   "source": [
    "# default neighbourhood size\n",
    "K = 100\n",
    "\n",
    "# neighbourhood sizes for multiscale approach\n",
    "Ks = [K//2, K, K*2]\n",
    "Ks.sort()\n",
    "\n",
    "generate_accums_for_point_cloud(point_cloud, Ks)"
   ]
  },
  {
   "cell_type": "code",
   "execution_count": 14,
   "metadata": {},
   "outputs": [
    {
     "data": {
      "text/plain": [
       "array([ 25,  50, 100, 200, 400], dtype=uint32)"
      ]
     },
     "execution_count": 14,
     "metadata": {},
     "output_type": "execute_result"
    }
   ],
   "source": [
    "a = np.sort([4, .25, 0.5, 1, 2])\n",
    "np.array(a * 100, dtype=\"uint\")"
   ]
  },
  {
   "cell_type": "code",
   "execution_count": 79,
   "metadata": {},
   "outputs": [],
   "source": [
    "K_max =  1000\n",
    "kd_tree = KDTree(point_cloud)\n",
    "close = get_points_close_to_origin(point_cloud, 0.02)\n",
    "distances, indices = kd_tree.query([point_cloud[close[0]]], k=K_max)"
   ]
  },
  {
   "cell_type": "code",
   "execution_count": 129,
   "metadata": {},
   "outputs": [
    {
     "data": {
      "text/plain": [
       "(5000,)"
      ]
     },
     "execution_count": 129,
     "metadata": {},
     "output_type": "execute_result"
    }
   ],
   "source": [
    "distances, indices = kd_tree.query(point_cloud, k = 5 + 1)\n",
    "probabilities = distances[:, -1]\n",
    "probabilities = probabilities / np.sum(probabilities)\n",
    "probabilities.shape"
   ]
  },
  {
   "cell_type": "code",
   "execution_count": 57,
   "metadata": {},
   "outputs": [
    {
     "data": {
      "text/plain": [
       "array([ 1.5385132 , -2.86752372, -1.55250921])"
      ]
     },
     "execution_count": 57,
     "metadata": {},
     "output_type": "execute_result"
    }
   ],
   "source": [
    "r = Rotation.random(random_state=1234).as_matrix()\n",
    "r @ [0,2,3]"
   ]
  }
 ],
 "metadata": {
  "kernelspec": {
   "display_name": "Python 3.6.10 64-bit ('geo_tutorials': conda)",
   "language": "python",
   "name": "python361064bitgeotutorialsconda9b6f052bfc254fca9ab4aac3821761f1"
  },
  "language_info": {
   "codemirror_mode": {
    "name": "ipython",
    "version": 3
   },
   "file_extension": ".py",
   "mimetype": "text/x-python",
   "name": "python",
   "nbconvert_exporter": "python",
   "pygments_lexer": "ipython3",
   "version": "3.6.10"
  },
  "varInspector": {
   "cols": {
    "lenName": 16,
    "lenType": 16,
    "lenVar": 40
   },
   "kernels_config": {
    "python": {
     "delete_cmd_postfix": "",
     "delete_cmd_prefix": "del ",
     "library": "var_list.py",
     "varRefreshCmd": "print(var_dic_list())"
    },
    "r": {
     "delete_cmd_postfix": ") ",
     "delete_cmd_prefix": "rm(",
     "library": "var_list.r",
     "varRefreshCmd": "cat(var_dic_list()) "
    }
   },
   "types_to_exclude": [
    "module",
    "function",
    "builtin_function_or_method",
    "instance",
    "_Feature"
   ],
   "window_display": false
  }
 },
 "nbformat": 4,
 "nbformat_minor": 2
}
